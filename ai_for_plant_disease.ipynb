{
 "cells": [
  {
   "cell_type": "code",
   "execution_count": null,
   "id": "732dac22",
   "metadata": {},
   "outputs": [],
   "source": [
    "# Check TensorFlow version\n",
    "import tensorflow as tf\n",
    "print(tf.__version__)"
   ]
  },
  {
   "cell_type": "code",
   "execution_count": null,
   "id": "2882d229",
   "metadata": {},
   "outputs": [],
   "source": [
    "# STEP 1: Install dependencies\n",
    "!pip install -q tensorflow tensorflow_datasets\n",
    "\n",
    "import tensorflow as tf\n",
    "import tensorflow_datasets as tfds\n",
    "\n",
    "print(\"TensorFlow version:\", tf.__version__)\n",
    "\n",
    "# STEP 2: Load the PlantVillage dataset\n",
    "# (already available in TensorFlow Datasets)\n",
    "(ds_train, ds_val), ds_info = tfds.load(\n",
    "    'plant_village',\n",
    "    split=['train[:80%]', 'train[80%:]'],\n",
    "    shuffle_files=True,\n",
    "    as_supervised=True,\n",
    "    with_info=True\n",
    ")\n",
    "\n",
    "# STEP 3: Preprocess images (resize + normalize)\n",
    "IMG_SIZE = 224\n",
    "BATCH_SIZE = 32\n",
    "\n",
    "def preprocess(image, label):\n",
    "    image = tf.image.resize(image, (IMG_SIZE, IMG_SIZE)) / 255.0\n",
    "    return image, label\n",
    "\n",
    "train_ds = ds_train.map(preprocess).batch(BATCH_SIZE).prefetch(tf.data.AUTOTUNE)\n",
    "val_ds = ds_val.map(preprocess).batch(BATCH_SIZE).prefetch(tf.data.AUTOTUNE)\n",
    "\n",
    "# STEP 4: Build Transfer Learning Model (MobileNetV2)\n",
    "base_model = tf.keras.applications.MobileNetV2(\n",
    "    input_shape=(IMG_SIZE, IMG_SIZE, 3),\n",
    "    include_top=False,\n",
    "    weights='imagenet'\n",
    ")\n",
    "base_model.trainable = False  # Freeze base\n",
    "\n",
    "x = tf.keras.layers.GlobalAveragePooling2D()(base_model.output)\n",
    "x = tf.keras.layers.Dropout(0.3)(x)\n",
    "output = tf.keras.layers.Dense(ds_info.features['label'].num_classes, activation='softmax')(x)\n",
    "\n",
    "model = tf.keras.Model(inputs=base_model.input, outputs=output)\n",
    "\n",
    "model.compile(optimizer='adam',\n",
    "              loss='sparse_categorical_crossentropy',\n",
    "              metrics=['accuracy'])\n",
    "\n",
    "# STEP 5: Train model\n",
    "history = model.fit(train_ds, validation_data=val_ds, epochs=5)\n",
    "\n",
    "# STEP 6: Save and convert to TensorFlow Lite\n",
    "model.save(\"plant_disease_model.h5\")\n",
    "\n",
    "converter = tf.lite.TFLiteConverter.from_keras_model(model)\n",
    "converter.optimizations = [tf.lite.Optimize.DEFAULT]  # Quantization for mobile\n",
    "tflite_model = converter.convert()\n",
    "\n",
    "with open(\"plant_disease_model.tflite\", \"wb\") as f:\n",
    "    f.write(tflite_model)\n",
    "\n",
    "print(\"✅ Training done & TFLite model saved!\")\n"
   ]
  },
  {
   "cell_type": "code",
   "execution_count": null,
   "id": "9e3cefe8",
   "metadata": {},
   "outputs": [],
   "source": [
    "#after the training is done \n",
    "import tensorflow as tf\n",
    "import numpy as np\n",
    "from PIL import Image\n",
    "\n",
    "# Load the TFLite model\n",
    "interpreter = tf.lite.Interpreter(model_path=\"plant_disease_model.tflite\") #here model name can be different\n",
    "interpreter.allocate_tensors()\n",
    "\n",
    "# Get input & output details\n",
    "input_details = interpreter.get_input_details()\n",
    "output_details = interpreter.get_output_details()\n",
    "\n",
    "# Load a test image (resize to model input size, e.g., 128x128)\n",
    "img = Image.open(\"test_leaf.jpg\").resize((128,128))\n",
    "img_array = np.expand_dims(np.array(img)/255.0, axis=0).astype(np.float32)\n",
    "\n",
    "# Run inference\n",
    "interpreter.set_tensor(input_details[0]['index'], img_array)\n",
    "interpreter.invoke()\n",
    "prediction = interpreter.get_tensor(output_details[0]['index'])\n",
    "\n",
    "print(\"Prediction:\", prediction)\n"
   ]
  },
  {
   "cell_type": "code",
   "execution_count": null,
   "id": "1c21b922",
   "metadata": {},
   "outputs": [],
   "source": [
    "#if you dont know your model name run this code it will tell you your files detail\n",
    "!ls -lh"
   ]
  },
  {
   "cell_type": "code",
   "execution_count": null,
   "id": "7e69ab48",
   "metadata": {},
   "outputs": [],
   "source": [
    "#this is for uploading files and it will give you a choose button\n",
    "from google.colab import files\n",
    "uploaded = files.upload()"
   ]
  },
  {
   "cell_type": "code",
   "execution_count": null,
   "id": "d6dd5a41",
   "metadata": {},
   "outputs": [],
   "source": [
    "#this is to check weather your model is working or not \n",
    "import tensorflow as tf\n",
    "import numpy as np\n",
    "from PIL import Image\n",
    "\n",
    "# Load the TFLite model\n",
    "interpreter = tf.lite.Interpreter(model_path=\"plant_disease_model.tflite\")\n",
    "interpreter.allocate_tensors()\n",
    "\n",
    "# Get input & output details\n",
    "input_details = interpreter.get_input_details()\n",
    "output_details = interpreter.get_output_details()\n"
   ]
  },
  {
   "cell_type": "code",
   "execution_count": null,
   "id": "f4a2411c",
   "metadata": {},
   "outputs": [],
   "source": [
    "# Open and preprocess the image\n",
    "img = Image.open(\"leaf.jpg\").resize((224, 224))  # make sure size matches model input\n",
    "img = np.array(img, dtype=np.float32) / 255.0   # normalize to 0-1\n",
    "img = np.expand_dims(img, axis=0)               # add batch dimension"
   ]
  },
  {
   "cell_type": "code",
   "execution_count": null,
   "id": "6b3f09e1",
   "metadata": {},
   "outputs": [],
   "source": [
    "# Run inference\n",
    "interpreter.set_tensor(input_details[0]['index'], img)\n",
    "interpreter.invoke()\n",
    "output_data = interpreter.get_tensor(output_details[0]['index'])\n",
    "\n",
    "print(\"Raw output:\", output_data)\n",
    "print(\"Predicted class index:\", np.argmax(output_data))"
   ]
  },
  {
   "cell_type": "code",
   "execution_count": null,
   "id": "1282e10c",
   "metadata": {},
   "outputs": [],
   "source": [
    "#this will show you the image and the top 3 predictions with image\n",
    "import matplotlib.pyplot as plt\n",
    "\n",
    "# Get top 3 predictions\n",
    "top_indices = np.argsort(output_data[0])[::-1][:3]\n",
    "\n",
    "# Plot image + predictions\n",
    "plt.figure(figsize=(6,6))\n",
    "plt.imshow(img[0])   # remove batch dimension\n",
    "plt.axis(\"off\")\n",
    "plt.title(\"Uploaded Leaf\")\n",
    "\n",
    "# Print results\n",
    "print(\"=== Diagnostic Report ===\")\n",
    "for i in top_indices:\n",
    "    print(f\"{class_names[i]}: {output_data[0][i]*100:.2f}%\")"
   ]
  }
 ],
 "metadata": {
  "kernelspec": {
   "display_name": "learning (3.12.5)",
   "language": "python",
   "name": "python3"
  },
  "language_info": {
   "codemirror_mode": {
    "name": "ipython",
    "version": 3
   },
   "file_extension": ".py",
   "mimetype": "text/x-python",
   "name": "python",
   "nbconvert_exporter": "python",
   "pygments_lexer": "ipython3",
   "version": "3.12.5"
  }
 },
 "nbformat": 4,
 "nbformat_minor": 5
}
